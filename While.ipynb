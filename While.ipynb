{
  "cells": [
    {
      "cell_type": "markdown",
      "metadata": {
        "id": "view-in-github",
        "colab_type": "text"
      },
      "source": [
        "<a href=\"https://colab.research.google.com/github/aboutdouglas/Python_Basico/blob/main/While.ipynb\" target=\"_parent\"><img src=\"https://colab.research.google.com/assets/colab-badge.svg\" alt=\"Open In Colab\"/></a>"
      ]
    },
    {
      "cell_type": "markdown",
      "metadata": {
        "id": "dEWZ2N4wvpFQ"
      },
      "source": [
        "# Estrutura while:\n",
        "\n",
        "### Funcionamento:\n",
        "\n",
        "Usamos o while quando queremos repetir um código de forma indeterminada até uma condição se tornar verdadeira/falsa.\n",
        "\n",
        "A lógica é: enquanto a condição for verdadeira, o while executa o código. Assim que ela terminar de ser verdadeira, o código \"sai\" do while."
      ]
    },
    {
      "cell_type": "raw",
      "metadata": {
        "id": "_ghmsssivpFZ"
      },
      "source": [
        "while condicao:\n",
        "    repete esse código"
      ]
    },
    {
      "cell_type": "markdown",
      "metadata": {
        "id": "l7ffI2QFvpFa"
      },
      "source": [
        "- Exemplo: Quando criamos automações na internet\n",
        "- Exemplo2: Crie um programa que funcione como o registro de vendas de uma empresa.\n",
        "\n",
        "Nele, a pessoa deve inserir o nome do produto e o produto deve ser adicionado na lista de venda. Enquanto o usuário não encerrar o programa, significa que ele está registrando novos produtos, então o programa deve permitir e entrada de quantos produtos o usuário quiser."
      ]
    },
    {
      "cell_type": "code",
      "execution_count": null,
      "metadata": {
        "id": "VBqWu5Z-vpFb",
        "outputId": "f1d26b4c-b6dd-4e37-9d42-76fb32834884"
      },
      "outputs": [
        {
          "name": "stdout",
          "output_type": "stream",
          "text": [
            "Registre um produto. Para cancelar o registro de um novo produto, basta apertar enter com a caixa vaziaarroz\n",
            "Registre um produto. Para cancelar o registro de um novo produto, basta apertar enter com a caixa vaziafeijao\n",
            "Registre um produto. Para cancelar o registro de um novo produto, basta apertar enter com a caixa vaziamacarrao\n",
            "Registre um produto. Para cancelar o registro de um novo produto, basta apertar enter com a caixa vaziavagem\n",
            "Registre um produto. Para cancelar o registro de um novo produto, basta apertar enter com a caixa vaziacenoura\n",
            "Registre um produto. Para cancelar o registro de um novo produto, basta apertar enter com a caixa vaziafrango\n",
            "Registre um produto. Para cancelar o registro de um novo produto, basta apertar enter com a caixa vazia\n",
            "Registro Finalizado. As vendas cadastradas foram: ['arroz', 'feijao', 'macarrao', 'vagem', 'cenoura', 'frango']\n"
          ]
        }
      ],
      "source": [
        "venda = input('Registre um produto. Para cancelar o registro de um novo produto, basta apertar enter com a caixa vazia')\n",
        "vendas = []\n",
        "#crie aqui o programa\n",
        "\n",
        "while venda != '':\n",
        "    vendas.append(venda)\n",
        "    venda = input('Registre um produto. Para cancelar o registro de um novo produto, basta apertar enter com a caixa vazia')\n",
        "\n",
        "\n",
        "print('Registro Finalizado. As vendas cadastradas foram: {}'.format(vendas))"
      ]
    }
  ],
  "metadata": {
    "kernelspec": {
      "display_name": "Python 3",
      "language": "python",
      "name": "python3"
    },
    "language_info": {
      "codemirror_mode": {
        "name": "ipython",
        "version": 3
      },
      "file_extension": ".py",
      "mimetype": "text/x-python",
      "name": "python",
      "nbconvert_exporter": "python",
      "pygments_lexer": "ipython3",
      "version": "3.8.3"
    },
    "colab": {
      "name": "While.ipynb",
      "provenance": [],
      "include_colab_link": true
    }
  },
  "nbformat": 4,
  "nbformat_minor": 0
}