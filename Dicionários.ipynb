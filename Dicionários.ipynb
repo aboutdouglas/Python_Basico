{
  "cells": [
    {
      "cell_type": "markdown",
      "metadata": {
        "id": "view-in-github",
        "colab_type": "text"
      },
      "source": [
        "<a href=\"https://colab.research.google.com/github/aboutdouglas/Python_Basico/blob/main/Dicion%C3%A1rios.ipynb\" target=\"_parent\"><img src=\"https://colab.research.google.com/assets/colab-badge.svg\" alt=\"Open In Colab\"/></a>"
      ]
    },
    {
      "cell_type": "markdown",
      "metadata": {
        "id": "6QZ4NySpshbP"
      },
      "source": [
        "# Dicionários em Python\n",
        "\n",
        "### Estrutura:\n",
        "\n",
        "dicionario = {chave: valor, chave: valor, chave: valor, chave: valor ...}\n",
        "\n",
        "### Vantagens e Desvantagens\n",
        "\n",
        "- Não devem ser usados para pegar itens em uma determinada ordem\n",
        "- Podem ter valores heterogêneos (vários tipos de valores dentro de um mesmo dicionário: inteiros, strings, listas, etc)\n",
        "- Chaves são únicas obrigatoriamente\n",
        "- Mais intuitivos de trabalhar"
      ]
    },
    {
      "cell_type": "code",
      "execution_count": null,
      "metadata": {
        "id": "OJ30pMWLshbd"
      },
      "outputs": [],
      "source": [
        "mais_vendidos = {'tecnologia': 'iphone', 'refrigeracao': 'ar consul 12000 btu', 'livros': 'o alquimista', 'eletrodoméstico': 'geladeira', 'lazer': 'prancha surf'}\n",
        "\n",
        "vendas_tecnologia = {'iphone': 15000, 'samsung galaxy': 12000, 'tv samsung': 10000, 'ps5': 14300, 'tablet': 1720, 'ipad': 1000, 'tv philco': 2500, 'notebook hp': 1000, 'notebook dell': 17000, 'notebook asus': 2450}"
      ]
    },
    {
      "cell_type": "markdown",
      "metadata": {
        "id": "M3F6JG2Bshbh"
      },
      "source": [
        "- Qual foi o item mais vendido nas categorias 'livros' e 'lazer'?\n",
        "- Quanto foi vendido de 'notebook asus' e de 'ipad'?"
      ]
    },
    {
      "cell_type": "code",
      "execution_count": null,
      "metadata": {
        "id": "dyNBi6aJshbi",
        "outputId": "f4ac442c-085a-42b8-af16-18d0a9a41c24"
      },
      "outputs": [
        {
          "name": "stdout",
          "output_type": "stream",
          "text": [
            "o alquimista\n",
            "prancha surf\n",
            "2450\n",
            "1000\n"
          ]
        }
      ],
      "source": [
        "livro = mais_vendidos['livros']\n",
        "lazer = mais_vendidos['lazer']\n",
        "print(livro)\n",
        "print(lazer)\n",
        "qtde_noteasus = vendas_tecnologia['notebook asus']\n",
        "qtde_ipad = vendas_tecnologia['ipad']\n",
        "print(qtde_noteasus)\n",
        "print(qtde_ipad)"
      ]
    }
  ],
  "metadata": {
    "kernelspec": {
      "display_name": "Python 3",
      "language": "python",
      "name": "python3"
    },
    "language_info": {
      "codemirror_mode": {
        "name": "ipython",
        "version": 3
      },
      "file_extension": ".py",
      "mimetype": "text/x-python",
      "name": "python",
      "nbconvert_exporter": "python",
      "pygments_lexer": "ipython3",
      "version": "3.8.3"
    },
    "colab": {
      "name": "Dicionários.ipynb",
      "provenance": [],
      "include_colab_link": true
    }
  },
  "nbformat": 4,
  "nbformat_minor": 0
}