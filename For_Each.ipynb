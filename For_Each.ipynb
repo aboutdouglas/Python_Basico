{
  "cells": [
    {
      "cell_type": "markdown",
      "metadata": {
        "id": "view-in-github",
        "colab_type": "text"
      },
      "source": [
        "<a href=\"https://colab.research.google.com/github/aboutdouglas/Python_Basico/blob/main/For_Each.ipynb\" target=\"_parent\"><img src=\"https://colab.research.google.com/assets/colab-badge.svg\" alt=\"Open In Colab\"/></a>"
      ]
    },
    {
      "cell_type": "markdown",
      "metadata": {
        "id": "VV_EzJ6MtBEk"
      },
      "source": [
        "# For \"each\"\n",
        "\n",
        "### Estrutura:\n",
        "\n",
        "O for no Python consegue percorrer uma lista e a cada \"loop\" retornar o valor do item."
      ]
    },
    {
      "cell_type": "raw",
      "metadata": {
        "id": "U50e83FStBE0"
      },
      "source": [
        "for i in range(5):\n",
        "    print(i)\n",
        "    \n",
        "range(5) é na verdade uma lista do tipo: [0, 1, 2, 3, 4]"
      ]
    },
    {
      "cell_type": "markdown",
      "metadata": {
        "id": "Lw64BGI8tBE1"
      },
      "source": [
        "### Usando para listas:"
      ]
    },
    {
      "cell_type": "raw",
      "metadata": {
        "id": "rJRhPUBFtBE2"
      },
      "source": [
        "for item in lista:\n",
        "    print(item)\n",
        "    \n",
        "ou então para string:\n",
        "\n",
        "for ch in texto:\n",
        "    print(ch)"
      ]
    },
    {
      "cell_type": "code",
      "execution_count": null,
      "metadata": {
        "id": "_LDScTGVtBE3",
        "outputId": "81b870fe-ab5e-428e-b342-d640d6a077d7"
      },
      "outputs": [
        {
          "name": "stdout",
          "output_type": "stream",
          "text": [
            "O produto é coca\n",
            "O produto é pepsi\n",
            "O produto é guarana\n",
            "O produto é sprite\n",
            "O produto é fanta\n",
            "l\n",
            "i\n",
            "r\n",
            "a\n",
            "@\n",
            "g\n",
            "m\n",
            "a\n",
            "i\n",
            "l\n",
            ".\n",
            "c\n",
            "o\n",
            "m\n"
          ]
        }
      ],
      "source": [
        "produtos = ['coca', 'pepsi', 'guarana', 'sprite', 'fanta']\n",
        "texto = 'lira@gmail.com'\n",
        "\n",
        "for produto in produtos:\n",
        "    print('O produto é {}'.format(produto))\n",
        "    \n",
        "for ch in texto:\n",
        "    print(ch)"
      ]
    }
  ],
  "metadata": {
    "kernelspec": {
      "display_name": "Python 3",
      "language": "python",
      "name": "python3"
    },
    "language_info": {
      "codemirror_mode": {
        "name": "ipython",
        "version": 3
      },
      "file_extension": ".py",
      "mimetype": "text/x-python",
      "name": "python",
      "nbconvert_exporter": "python",
      "pygments_lexer": "ipython3",
      "version": "3.8.3"
    },
    "colab": {
      "name": "For Each.ipynb",
      "provenance": [],
      "include_colab_link": true
    }
  },
  "nbformat": 4,
  "nbformat_minor": 0
}