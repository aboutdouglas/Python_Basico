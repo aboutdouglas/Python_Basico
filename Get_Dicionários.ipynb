{
  "cells": [
    {
      "cell_type": "markdown",
      "metadata": {
        "id": "view-in-github",
        "colab_type": "text"
      },
      "source": [
        "<a href=\"https://colab.research.google.com/github/aboutdouglas/Python_Basico/blob/main/Get_Dicion%C3%A1rios.ipynb\" target=\"_parent\"><img src=\"https://colab.research.google.com/assets/colab-badge.svg\" alt=\"Open In Colab\"/></a>"
      ]
    },
    {
      "cell_type": "markdown",
      "metadata": {
        "id": "xL01R6VJtu9W"
      },
      "source": [
        "# Não confie na ordem dos dicionários, use as chaves\n",
        "\n",
        "### Python Versões Antigas x Versões Novas\n",
        "\n",
        "- Dicionários eram \"sem ordem\". Atualmente tem ordem, mas o certo é usar as chaves\n",
        "- 2 formas de pegar um valor:\n",
        "    - dicionario[chave]\n",
        "    - .get(chave)"
      ]
    },
    {
      "cell_type": "code",
      "execution_count": null,
      "metadata": {
        "id": "dt-w_09ktu9j"
      },
      "outputs": [],
      "source": [
        "mais_vendidos = {'tecnologia': 'iphone', 'refrigeracao': 'ar consul 12000 btu', 'livros': 'o alquimista', 'eletrodoméstico': 'geladeira', 'lazer': 'prancha surf'}\n",
        "\n",
        "vendas_tecnologia = {'iphone': 15000, 'samsung galaxy': 12000, 'tv samsung': 10000, 'ps5': 14300, 'tablet': 1720, 'ipad': 1000, 'tv philco': 2500, 'notebook hp': 1000, 'notebook dell': 17000, 'notebook asus': 2450}"
      ]
    },
    {
      "cell_type": "markdown",
      "metadata": {
        "id": "g-SGlNcztu9w"
      },
      "source": [
        "- Qual foi o item mais vendido nas categorias 'livros' e 'lazer'?\n",
        "- Quanto foi vendido de 'notebook asus' e de 'ipad'?"
      ]
    },
    {
      "cell_type": "code",
      "execution_count": null,
      "metadata": {
        "id": "icuTHl5etu9x",
        "outputId": "01650ab5-06db-4def-b9bf-a9c37e3db764"
      },
      "outputs": [
        {
          "name": "stdout",
          "output_type": "stream",
          "text": [
            "O livro mais vendido foi o alquimista\n",
            "O produto mais vendido em lazer foi prancha surf\n",
            "2450\n",
            "Vendemos 1000 ipads\n"
          ]
        }
      ],
      "source": [
        "# respondendo com a chave, igual a aula anterior\n",
        "print('O livro mais vendido foi {}'.format(mais_vendidos['livros']))\n",
        "print('O produto mais vendido em lazer foi {}'.format(mais_vendidos['lazer']))\n",
        "# respondendo com o método get\n",
        "print(vendas_tecnologia.get('notebook asus'))\n",
        "print('Vendemos {} ipads'.format(vendas_tecnologia.get('ipad')))"
      ]
    },
    {
      "cell_type": "code",
      "execution_count": null,
      "metadata": {
        "id": "UvO7sxXrtu9z",
        "outputId": "175431a2-c59b-40c7-b968-0ee832fe75cb"
      },
      "outputs": [
        {
          "ename": "KeyError",
          "evalue": "'ipads'",
          "output_type": "error",
          "traceback": [
            "\u001b[1;31m---------------------------------------------------------------------------\u001b[0m",
            "\u001b[1;31mKeyError\u001b[0m                                  Traceback (most recent call last)",
            "\u001b[1;32m<ipython-input-16-3927a49da1aa>\u001b[0m in \u001b[0;36m<module>\u001b[1;34m\u001b[0m\n\u001b[1;32m----> 1\u001b[1;33m \u001b[0mprint\u001b[0m\u001b[1;33m(\u001b[0m\u001b[0mvendas_tecnologia\u001b[0m\u001b[1;33m[\u001b[0m\u001b[1;34m'ipads'\u001b[0m\u001b[1;33m]\u001b[0m\u001b[1;33m)\u001b[0m\u001b[1;33m\u001b[0m\u001b[1;33m\u001b[0m\u001b[0m\n\u001b[0m",
            "\u001b[1;31mKeyError\u001b[0m: 'ipads'"
          ]
        }
      ],
      "source": [
        "print(vendas_tecnologia['ipads'])"
      ]
    },
    {
      "cell_type": "markdown",
      "metadata": {
        "id": "k48oSKGOtu90"
      },
      "source": [
        "### Verificar se item está no dicionário:\n",
        "\n",
        "- if\n",
        "- .get(chave) = None\n",
        "\n",
        "Se tentarmos procurar as vendas de \"copo\" na lista de vendas tecnologia, o que acontece?"
      ]
    },
    {
      "cell_type": "code",
      "execution_count": null,
      "metadata": {
        "id": "XsMU3c3ktu91",
        "outputId": "11a6b6cc-dea6-43b7-855f-49fcc09bafc4"
      },
      "outputs": [
        {
          "name": "stdout",
          "output_type": "stream",
          "text": [
            "Copo não está dentro da lista de produtos de tecnologia\n"
          ]
        }
      ],
      "source": [
        "if vendas_tecnologia.get('copo') == None:\n",
        "    print('Copo não está dentro da lista de produtos de tecnologia')\n",
        "else:\n",
        "    print(vendas_tecnologia.get('copo'))"
      ]
    }
  ],
  "metadata": {
    "kernelspec": {
      "display_name": "Python 3",
      "language": "python",
      "name": "python3"
    },
    "language_info": {
      "codemirror_mode": {
        "name": "ipython",
        "version": 3
      },
      "file_extension": ".py",
      "mimetype": "text/x-python",
      "name": "python",
      "nbconvert_exporter": "python",
      "pygments_lexer": "ipython3",
      "version": "3.8.3"
    },
    "colab": {
      "name": "Get Dicionários.ipynb",
      "provenance": [],
      "include_colab_link": true
    }
  },
  "nbformat": 4,
  "nbformat_minor": 0
}