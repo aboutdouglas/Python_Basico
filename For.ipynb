{
  "cells": [
    {
      "cell_type": "markdown",
      "metadata": {
        "id": "view-in-github",
        "colab_type": "text"
      },
      "source": [
        "<a href=\"https://colab.research.google.com/github/aboutdouglas/Python_Basico/blob/main/For.ipynb\" target=\"_parent\"><img src=\"https://colab.research.google.com/assets/colab-badge.svg\" alt=\"Open In Colab\"/></a>"
      ]
    },
    {
      "cell_type": "markdown",
      "metadata": {
        "id": "MVNDsf34tKmN"
      },
      "source": [
        "# Estrutura de Repetição: for\n",
        "\n",
        "### Funcionamento:"
      ]
    },
    {
      "cell_type": "raw",
      "metadata": {
        "id": "1KlDbRvftKml"
      },
      "source": [
        "for i in range(n):\n",
        "    repetir código n vezes"
      ]
    },
    {
      "cell_type": "code",
      "execution_count": null,
      "metadata": {
        "id": "HQf7mfwFtKmp",
        "outputId": "7ac0aa45-b804-402d-d0e8-09fc24aa521b"
      },
      "outputs": [
        {
          "name": "stdout",
          "output_type": "stream",
          "text": [
            "0\n",
            "1\n",
            "2\n",
            "3\n",
            "4\n"
          ]
        }
      ],
      "source": [
        "for i in range(5):\n",
        "    print(i)"
      ]
    },
    {
      "cell_type": "markdown",
      "metadata": {
        "id": "ApoQ1RaDtKmt"
      },
      "source": [
        "- Imagine que você está construindo uma automação para enviar todo dia por e-mail um resumo da produção de uma fábrica. Construa um código que exiba a quantidade produzida de cada os produto nesse \"e-mail\""
      ]
    },
    {
      "cell_type": "code",
      "execution_count": null,
      "metadata": {
        "id": "6ZeXonHTtKmt",
        "outputId": "1a482167-0963-4e08-dcad-a225899bdf5e"
      },
      "outputs": [
        {
          "name": "stdout",
          "output_type": "stream",
          "text": [
            "15000 unidades produzidas de coca\n",
            "12000 unidades produzidas de pepsi\n",
            "13000 unidades produzidas de guarana\n",
            "5000 unidades produzidas de sprite\n",
            "250 unidades produzidas de fanta\n"
          ]
        }
      ],
      "source": [
        "produtos = ['coca', 'pepsi', 'guarana', 'sprite', 'fanta']\n",
        "producao = [15000, 12000, 13000, 5000, 250]\n",
        "\n",
        "tamanho = len(produtos)\n",
        "for i in range(tamanho):\n",
        "    print('{} unidades produzidas de {}'.format(producao[i], produtos[i]))"
      ]
    }
  ],
  "metadata": {
    "kernelspec": {
      "display_name": "Python 3",
      "language": "python",
      "name": "python3"
    },
    "language_info": {
      "codemirror_mode": {
        "name": "ipython",
        "version": 3
      },
      "file_extension": ".py",
      "mimetype": "text/x-python",
      "name": "python",
      "nbconvert_exporter": "python",
      "pygments_lexer": "ipython3",
      "version": "3.8.3"
    },
    "colab": {
      "name": "For.ipynb",
      "provenance": [],
      "include_colab_link": true
    }
  },
  "nbformat": 4,
  "nbformat_minor": 0
}