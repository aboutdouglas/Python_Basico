{
  "cells": [
    {
      "cell_type": "markdown",
      "metadata": {
        "id": "view-in-github",
        "colab_type": "text"
      },
      "source": [
        "<a href=\"https://colab.research.google.com/github/aboutdouglas/Python_Basico/blob/main/Unpacking_Tuplas.ipynb\" target=\"_parent\"><img src=\"https://colab.research.google.com/assets/colab-badge.svg\" alt=\"Open In Colab\"/></a>"
      ]
    },
    {
      "cell_type": "markdown",
      "metadata": {
        "id": "lgBMeV12vfX9"
      },
      "source": [
        "# Tuplas\n",
        "\n",
        "### Estrutura:\n",
        "\n",
        "tupla = (valor, valor, valor, ...)\n",
        "\n",
        "### Diferença\n",
        "\n",
        "Parece uma lista, mas é imutável.\n",
        "\n",
        "### Vantagens:\n",
        "\n",
        "- Mais eficiente (em termos de performance)\n",
        "- Protege a base de dados (por ser imutável)\n",
        "- Muito usado para dados heterogêneos\n",
        "\n",
        "### Criando tuplas"
      ]
    },
    {
      "cell_type": "code",
      "execution_count": null,
      "metadata": {
        "id": "j3mCphTRvfYF",
        "outputId": "f49788ee-6f1b-4984-f9ed-c5631f64766a"
      },
      "outputs": [
        {
          "name": "stdout",
          "output_type": "stream",
          "text": [
            "('Lira', '25/08/2020', '15/02/1994', 2000, 'Estagiário')\n"
          ]
        }
      ],
      "source": [
        "vendas = ('Lira', '25/08/2020', '15/02/1994', 2000, 'Estagiário')\n",
        "print(vendas)"
      ]
    },
    {
      "cell_type": "markdown",
      "metadata": {
        "id": "Vvou5SBfvfYI"
      },
      "source": [
        "### Acessando o valor de uma tupla"
      ]
    },
    {
      "cell_type": "code",
      "execution_count": null,
      "metadata": {
        "id": "YwaMV2XcvfYI",
        "outputId": "3668d050-0452-4568-8b1d-f89614803546"
      },
      "outputs": [
        {
          "name": "stdout",
          "output_type": "stream",
          "text": [
            "2000\n"
          ]
        }
      ],
      "source": [
        "nome, data_contratacao, data_nascimento, salario, cargo = vendas\n",
        "\n",
        "print(salario)"
      ]
    },
    {
      "cell_type": "markdown",
      "metadata": {
        "id": "sx6J3gyDvfYJ"
      },
      "source": [
        "- o enumerate que vínhamos usando até agora, na verdade, cria uma tupla para a gente. Vamos ver na prática:"
      ]
    },
    {
      "cell_type": "code",
      "execution_count": null,
      "metadata": {
        "id": "fbrsablivfYK",
        "outputId": "67ac8101-4ebd-4fad-fa75-30b24d444897"
      },
      "outputs": [
        {
          "name": "stdout",
          "output_type": "stream",
          "text": [
            "0\n",
            "1000\n",
            "1\n",
            "2000\n",
            "2\n",
            "300\n",
            "3\n",
            "300\n",
            "4\n",
            "150\n"
          ]
        }
      ],
      "source": [
        "vendas = [1000, 2000, 300, 300, 150]\n",
        "funcionarios = ['João', 'Lira', 'Ana', 'Maria', 'Paula']\n",
        "\n",
        "for i, venda in enumerate(vendas):\n",
        "        print('{} vendeu {} unidades'.format(funcionarios[i], venda))"
      ]
    }
  ],
  "metadata": {
    "kernelspec": {
      "display_name": "Python 3",
      "language": "python",
      "name": "python3"
    },
    "language_info": {
      "codemirror_mode": {
        "name": "ipython",
        "version": 3
      },
      "file_extension": ".py",
      "mimetype": "text/x-python",
      "name": "python",
      "nbconvert_exporter": "python",
      "pygments_lexer": "ipython3",
      "version": "3.8.3"
    },
    "colab": {
      "name": "Unpacking Tuplas.ipynb",
      "provenance": [],
      "include_colab_link": true
    }
  },
  "nbformat": 4,
  "nbformat_minor": 0
}